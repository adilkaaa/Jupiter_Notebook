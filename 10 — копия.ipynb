{
 "cells": [
  {
   "cell_type": "markdown",
   "metadata": {},
   "source": [
    "## 1. Создайте функцию которая принимает аргументом целое число и возвращает \"Четное\" если число четное или иначе \"Нечетное\".\n",
    "\n",
    "Вход:\n",
    "\n",
    "5\n",
    "\n",
    "Выход:\n",
    "\n",
    "Нечетное"
   ]
  },
  {
   "cell_type": "code",
   "execution_count": 4,
   "metadata": {},
   "outputs": [
    {
     "name": "stdout",
     "output_type": "stream",
     "text": [
      "n: 5\n",
      "Нечетное\n"
     ]
    }
   ],
   "source": [
    "a = int(input('n: '))\n",
    "def odd_even(n):\n",
    "    return \"Четное\" if n%2==0 else \"Нечетное\"\n",
    "print(odd_even(a))"
   ]
  },
  {
   "cell_type": "markdown",
   "metadata": {},
   "source": [
    "## 2. Создайте функцию которая принимает аргументом список с числами, верните сумму четных чисел.\n",
    "\n",
    "Вход:\n",
    "\n",
    "[1, 2, 3, 4]\n",
    "\n",
    "Выход:\n",
    "\n",
    "6"
   ]
  },
  {
   "cell_type": "code",
   "execution_count": 5,
   "metadata": {},
   "outputs": [
    {
     "name": "stdout",
     "output_type": "stream",
     "text": [
      "6\n"
     ]
    }
   ],
   "source": [
    "l1 = [1,2,3,4]\n",
    "\n",
    "def sum_even(l):\n",
    "    evens = [i for i in l if i%2==0]\n",
    "    return sum(evens)\n",
    "print(sum_even(l1))"
   ]
  },
  {
   "cell_type": "markdown",
   "metadata": {},
   "source": [
    "## 3. Создайте функцию которая принимает аргументом список с числами, верните список первый элемент которого  - количество положительных чисел, а второй элемент - сумма отрицательных чисел.\n",
    "\n",
    "Вход:\n",
    "\n",
    "[1, 2, 3, 4, 5, 6, 7, 8, 9, 10, -11, -12, -13, -14, -15]\n",
    "\n",
    "Выход:\n",
    "\n",
    "[10, -65]."
   ]
  },
  {
   "cell_type": "code",
   "execution_count": 9,
   "metadata": {},
   "outputs": [
    {
     "name": "stdout",
     "output_type": "stream",
     "text": [
      "[10, -65]\n"
     ]
    }
   ],
   "source": [
    "l2 = [1,2,3,4,5,6,7,8,9,10,-11,-12,-13,-14,-15]\n",
    "def pos_neg(l):\n",
    "    positive = len([i for i in l if i>0])\n",
    "    negative = sum([i for i in l if i<0])\n",
    "    return [positive,negative]\n",
    "\n",
    "print(pos_neg(l2))"
   ]
  },
  {
   "cell_type": "markdown",
   "metadata": {},
   "source": [
    "## 4. Фильтр чисел. Создайте функцию которая принимает аргументом список с числами и строками, верните список с числами, убрав строки.\n",
    "\n",
    "```\n",
    "filter_list([1,2,'a','b']) == [1,2]\n",
    "filter_list([1,'a','b',0,15]) == [1,0,15]\n",
    "filter_list([1,2,'aasf','1','123',123]) == [1,2,123]\n",
    "```"
   ]
  },
  {
   "cell_type": "code",
   "execution_count": 13,
   "metadata": {},
   "outputs": [
    {
     "name": "stdout",
     "output_type": "stream",
     "text": [
      "[1, 2, 3, 4, 5]\n"
     ]
    }
   ],
   "source": [
    "l1 = [1,2,'a',3,'b',4,'6','677',5]\n",
    "\n",
    "def filter_list(l):\n",
    "    l_n = [i for i in l if type(i) is int]\n",
    "    return l_n\n",
    "print(filter_list(l1))"
   ]
  },
  {
   "cell_type": "markdown",
   "metadata": {},
   "source": [
    "## 5. Создайте функцию которая принимает аргументом целое число и возвращает число с обратным знаком.\n",
    "\n",
    "```\n",
    "1: -1\n",
    "14: -14\n",
    "-34: 34\n",
    "```"
   ]
  },
  {
   "cell_type": "code",
   "execution_count": 16,
   "metadata": {},
   "outputs": [
    {
     "name": "stdout",
     "output_type": "stream",
     "text": [
      "n: -34\n",
      "34\n"
     ]
    }
   ],
   "source": [
    "n1 = int(input('n: '))\n",
    "\n",
    "def negate_number(n):\n",
    "    return n*-1\n",
    "print(negate_number(n1))"
   ]
  },
  {
   "cell_type": "markdown",
   "metadata": {},
   "source": [
    "## 6. Создайте функцию которая принимает аргументом строку и возвращает новую строку без первого и последнего знака.\n",
    "\n",
    "Вход:\n",
    "\n",
    "Hello\n",
    "\n",
    "Выход:\n",
    "\n",
    "ell"
   ]
  },
  {
   "cell_type": "code",
   "execution_count": 23,
   "metadata": {},
   "outputs": [
    {
     "name": "stdout",
     "output_type": "stream",
     "text": [
      "Hello\n",
      "ell\n"
     ]
    }
   ],
   "source": [
    "s1 = input()\n",
    "def remove_last(s):\n",
    "    return s[1:-1]\n",
    "print(remove_last(s1))"
   ]
  },
  {
   "cell_type": "markdown",
   "metadata": {},
   "source": [
    "## 7. Создайте функцию `accum` по аналогии входа и выхода в примере:\n",
    "```\n",
    "accum(\"abcd\") -> \"a-bb-ccc-dddd\"\n",
    "accum(\"RqaEzty\") -> \"R-qq-aaa-EEEE-zzzzz-tttttt-yyyyyyy\"\n",
    "accum(\"cwAt\") -> \"c-ww-AAA-tttt\"\n",
    "```"
   ]
  },
  {
   "cell_type": "code",
   "execution_count": 25,
   "metadata": {},
   "outputs": [
    {
     "name": "stdout",
     "output_type": "stream",
     "text": [
      "RqaEzty\n",
      "R-qq-aaa-EEEE-zzzzz-tttttt-yyyyyyy\n"
     ]
    }
   ],
   "source": [
    "s1 = input()\n",
    "def accum(s):\n",
    "    word = ''\n",
    "    n = len(s)\n",
    "    c = 1\n",
    "    for i in range(0,n):\n",
    "        word+= s[i]*c+'-'\n",
    "        c+=1\n",
    "    return word[:-1]\n",
    "print(accum(s1))\n",
    "        "
   ]
  },
  {
   "cell_type": "markdown",
   "metadata": {},
   "source": [
    "## 8. Изограмма - это слово, в котором нет повторяющихся букв. Создайте функцию `is_isogram`, которое проверяет является ли слово изограммой. \n",
    "\n",
    "```\n",
    "is_isogram(\"Dermatoglyphics\" ) == True\n",
    "is_isogram(\"aba\" ) == False\n",
    "is_isogram(\"moOse\" ) == False\n",
    "```"
   ]
  },
  {
   "cell_type": "code",
   "execution_count": 28,
   "metadata": {},
   "outputs": [
    {
     "name": "stdout",
     "output_type": "stream",
     "text": [
      "moOse\n",
      "False\n"
     ]
    }
   ],
   "source": [
    "s = input()\n",
    "def is_isogram(word):\n",
    "    word = word.lower()\n",
    "    for letter in word:\n",
    "        if word.count(letter)>1:\n",
    "            return False\n",
    "    return True\n",
    "print(is_isogram(s))\n",
    "        "
   ]
  },
  {
   "cell_type": "markdown",
   "metadata": {},
   "source": [
    "## 9. На вход функции подаются слова. Выведите самое короткое слово.\n",
    "\n",
    "```\n",
    "shortest_word(\"Привет как дела\" ) => \"как\"\n",
    "```"
   ]
  },
  {
   "cell_type": "code",
   "execution_count": 33,
   "metadata": {},
   "outputs": [
    {
     "name": "stdout",
     "output_type": "stream",
     "text": [
      "Привет как дела\n",
      "как\n"
     ]
    }
   ],
   "source": [
    "s = input()\n",
    "def shortest_word(word):\n",
    "    word = word.split()\n",
    "    word.sort(key = len)\n",
    "    return word[0]\n",
    "print(shortest_word(s))"
   ]
  },
  {
   "cell_type": "markdown",
   "metadata": {},
   "source": [
    "## 10. Маскировка номера карты. На вход функции подаются числа. Выведите только последние 4 цифры, заменив остальные символом `#`.\n",
    "\n",
    "```\n",
    "maskify(\"4556364607935616\") == \"############5616\"\n",
    "maskify(     \"64607935616\") ==      \"#######5616\"\n",
    "```"
   ]
  },
  {
   "cell_type": "code",
   "execution_count": 44,
   "metadata": {},
   "outputs": [
    {
     "name": "stdout",
     "output_type": "stream",
     "text": [
      "4556364607935616\n",
      "############5616\n"
     ]
    }
   ],
   "source": [
    "s = input()\n",
    "def maskify(word):\n",
    "    l = len(word)-4\n",
    "    word = l*'#' + word[-4:]\n",
    "    \n",
    "    return word\n",
    "print(maskify(s))"
   ]
  }
 ],
 "metadata": {
  "kernelspec": {
   "display_name": "Python 3 (ipykernel)",
   "language": "python",
   "name": "python3"
  },
  "language_info": {
   "codemirror_mode": {
    "name": "ipython",
    "version": 3
   },
   "file_extension": ".py",
   "mimetype": "text/x-python",
   "name": "python",
   "nbconvert_exporter": "python",
   "pygments_lexer": "ipython3",
   "version": "3.8.10"
  }
 },
 "nbformat": 4,
 "nbformat_minor": 4
}
