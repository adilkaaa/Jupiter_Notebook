{
 "cells": [
  {
   "cell_type": "markdown",
   "metadata": {},
   "source": [
    "## 1. Написать цикл для вывода списка чисел от 100 до 50 включительно."
   ]
  },
  {
   "cell_type": "code",
   "execution_count": 1,
   "metadata": {},
   "outputs": [
    {
     "name": "stdout",
     "output_type": "stream",
     "text": [
      "[100, 99, 98, 97, 96, 95, 94, 93, 92, 91, 90, 89, 88, 87, 86, 85, 84, 83, 82, 81, 80, 79, 78, 77, 76, 75, 74, 73, 72, 71, 70, 69, 68, 67, 66, 65, 64, 63, 62, 61, 60, 59, 58, 57, 56, 55, 54, 53, 52, 51, 50]\n"
     ]
    }
   ],
   "source": [
    "l = [i for i in range(100,49,-1)]\n",
    "print(l)"
   ]
  },
  {
   "cell_type": "markdown",
   "metadata": {},
   "source": [
    "## 2. На вход принимается целое положительное число n. Нарисовать рисунок по образцу с указанным количеством строк n.\n",
    "\n",
    "\n",
    "n = 5\n",
    "```\n",
    "* \n",
    "* * \n",
    "* * * \n",
    "* * * * \n",
    "* * * * *\n",
    "```"
   ]
  },
  {
   "cell_type": "code",
   "execution_count": 4,
   "metadata": {},
   "outputs": [
    {
     "name": "stdout",
     "output_type": "stream",
     "text": [
      "n: 5\n",
      "\n",
      "* \n",
      "* * \n",
      "* * * \n",
      "* * * * \n",
      "* * * * * \n"
     ]
    }
   ],
   "source": [
    "n = int(input('n: '))\n",
    "z = \"* \"\n",
    "for i in range(0,n+1):\n",
    "    print(i*z)"
   ]
  },
  {
   "cell_type": "markdown",
   "metadata": {},
   "source": [
    "## 3. Что делает нижеуказанный код? Перепишите её с использованием цикла `for`"
   ]
  },
  {
   "cell_type": "code",
   "execution_count": 10,
   "metadata": {},
   "outputs": [
    {
     "name": "stdout",
     "output_type": "stream",
     "text": [
      "162\n"
     ]
    }
   ],
   "source": [
    "n = 10\n",
    "s = 1\n",
    "while n > 0:\n",
    "    if n % 3 == 0:\n",
    "        s *= n\n",
    "    \n",
    "    n -= 1\n",
    "\n",
    "print(s)"
   ]
  },
  {
   "cell_type": "code",
   "execution_count": 11,
   "metadata": {},
   "outputs": [
    {
     "name": "stdout",
     "output_type": "stream",
     "text": [
      "162\n"
     ]
    }
   ],
   "source": [
    "#My code\n",
    "n = 10\n",
    "s = 1\n",
    "for i in range(1,n+1):\n",
    "    if i%3 == 0:\n",
    "        s*=i\n",
    "print(s)"
   ]
  },
  {
   "cell_type": "markdown",
   "metadata": {},
   "source": [
    "## 4. Посчитать сумму числового ряда от 0 до 14 включительно.\n",
    "Например, 0+1+2+3+…+14"
   ]
  },
  {
   "cell_type": "code",
   "execution_count": 12,
   "metadata": {},
   "outputs": [
    {
     "name": "stdout",
     "output_type": "stream",
     "text": [
      "105\n"
     ]
    }
   ],
   "source": [
    "l = [i for i in range(1,15)]\n",
    "print(sum(l))"
   ]
  },
  {
   "cell_type": "markdown",
   "metadata": {},
   "source": [
    "## 5. Посчитать сумму `четных чисел` числового ряда от 0 до 14 включительно.\n",
    "Например, 2+4+…+14"
   ]
  },
  {
   "cell_type": "code",
   "execution_count": 14,
   "metadata": {},
   "outputs": [
    {
     "name": "stdout",
     "output_type": "stream",
     "text": [
      "56\n"
     ]
    }
   ],
   "source": [
    "l = [i for i in range(0,15,2)]\n",
    "print(sum(l))"
   ]
  },
  {
   "cell_type": "markdown",
   "metadata": {},
   "source": [
    "## 6. Факториал числа.\n",
    "\n",
    "\n",
    "По данному целому неотрицательному n вычислите значение n!.\n",
    "\n",
    "`Примеры`\n",
    "\n",
    "`входные данные`\n",
    "\n",
    "`3`\n",
    "\n",
    "`выходные данные`\n",
    "\n",
    "`6`\n",
    "\n",
    "Факториал числа 3: `1 * 2 * 3 = 6`"
   ]
  },
  {
   "cell_type": "code",
   "execution_count": 15,
   "metadata": {},
   "outputs": [
    {
     "name": "stdout",
     "output_type": "stream",
     "text": [
      "n: 3\n",
      "6\n"
     ]
    }
   ],
   "source": [
    "n = int(input('n: '))\n",
    "fact = 1\n",
    "for i in range(1,n+1):\n",
    "    fact*=i\n",
    "print(fact)"
   ]
  },
  {
   "cell_type": "markdown",
   "metadata": {},
   "source": [
    "## 7. Четные числа.\n",
    "\n",
    "\n",
    "По данным двум натуральным числам A и B (A≤B) выведите все чётные числа на отрезке от A до B. В этой задаче нельзя использовать инструкцию if.\n",
    "\n",
    "`Примеры`\n",
    "\n",
    "`входные данные`\n",
    "\n",
    "`1`\n",
    "\n",
    "`10`\n",
    "\n",
    "`выходные данные`\n",
    "\n",
    "`2 4 6 8 10`"
   ]
  },
  {
   "cell_type": "code",
   "execution_count": 22,
   "metadata": {},
   "outputs": [
    {
     "name": "stdout",
     "output_type": "stream",
     "text": [
      "a: 1\n",
      "b: 10\n",
      "2 4 6 8 10\n"
     ]
    }
   ],
   "source": [
    "a = int(input('a: '))\n",
    "b = int(input('b: '))\n",
    "numbers = [str(i) for i in range(a,b+1)]\n",
    "def even(n):\n",
    "    return int(n)%2==0\n",
    "l = filter(even,numbers)\n",
    "print(\" \".join(list(l)))\n"
   ]
  },
  {
   "cell_type": "markdown",
   "metadata": {},
   "source": [
    "## 8. Сумма цифр числа\n",
    "\n",
    "\n",
    "Прочитайте строку состоящую из цифр (как строку, а не число). Посчитайте сумму всех чисел в списке.\n",
    "\n",
    "`Примеры`\n",
    "\n",
    "`входные данные`\n",
    "\n",
    "`1234`\n",
    "\n",
    "`выходные данные`\n",
    "\n",
    "`10`\n",
    "\n",
    "(1 + 2 + 3 + 4 = 10)\n",
    "\n",
    "Подсказка: Пробежитесь по **строке** в цикле for и суммируйте.\n",
    "\n",
    "```\n",
    "for i in \"1234\":\n",
    "    print(i)\n",
    "```\n",
    "\n",
    "этот код распечатает:\n",
    "\n",
    "1\n",
    "\n",
    "2\n",
    "\n",
    "3\n",
    "\n",
    "4"
   ]
  },
  {
   "cell_type": "code",
   "execution_count": 23,
   "metadata": {},
   "outputs": [
    {
     "name": "stdout",
     "output_type": "stream",
     "text": [
      "s: 1234\n",
      "10\n"
     ]
    }
   ],
   "source": [
    "s = input('s: ')\n",
    "summa = 0\n",
    "for i in s:\n",
    "    summa+=int(i)\n",
    "print(summa)"
   ]
  },
  {
   "cell_type": "markdown",
   "metadata": {},
   "source": [
    "## Задача для интереса. Флаги.\n",
    "\n",
    "\n",
    "Напишите программу, которая по данному числу n от 1 до 9 выводит на экран n флагов. Изображение одного флага имеет размер 4×4 символов, между двумя соседними флагами также имеется пустой (из пробелов) столбец. Разрешается вывести пустой столбец после последнего флага. Внутри каждого флага должен быть записан его номер — число от 1 до n.\n",
    "\n",
    "`Примеры`\n",
    "\n",
    "`входные данные`\n",
    "\n",
    "`3`\n",
    "\n",
    "`выходные данные`\n",
    "\n",
    "`+___ +___ +___ \n",
    "|1 / |2 / |3 / \n",
    "|__\\ |__\\ |__\\ \n",
    "|    |    |    `\n",
    "\n",
    "\n",
    "`входные данные`\n",
    "\n",
    "`3`\n",
    "\n",
    "`выходные данные`\n",
    "\n",
    "`+___ \n",
    "|1 / \n",
    "|__\\ \n",
    "| `"
   ]
  },
  {
   "cell_type": "code",
   "execution_count": null,
   "metadata": {},
   "outputs": [],
   "source": [
    "\n",
    "\n"
   ]
  }
 ],
 "metadata": {
  "kernelspec": {
   "display_name": "Python 3 (ipykernel)",
   "language": "python",
   "name": "python3"
  },
  "language_info": {
   "codemirror_mode": {
    "name": "ipython",
    "version": 3
   },
   "file_extension": ".py",
   "mimetype": "text/x-python",
   "name": "python",
   "nbconvert_exporter": "python",
   "pygments_lexer": "ipython3",
   "version": "3.8.10"
  }
 },
 "nbformat": 4,
 "nbformat_minor": 2
}
