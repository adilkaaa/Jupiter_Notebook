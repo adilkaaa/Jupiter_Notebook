{
 "cells": [
  {
   "cell_type": "markdown",
   "metadata": {
    "id": "mhjTaPvl2TVe"
   },
   "source": [
    "#### 1. Электронные часы\n",
    "Дано число n. С начала суток прошло n минут. Определите, сколько часов и минут будут показывать электронные часы в этот момент.\n",
    "\n",
    "**Примеры**\n",
    "\n",
    "`входные данные`\n",
    "\n",
    "`150`\n",
    "\n",
    "`выходные данные`\n",
    "\n",
    "`2:30`\n",
    "\n",
    "`входные данные`\n",
    "\n",
    "`1441`\n",
    "\n",
    "`выходные данные`\n",
    "\n",
    "`0:1`"
   ]
  },
  {
   "cell_type": "code",
   "execution_count": 8,
   "metadata": {
    "colab": {
     "base_uri": "https://localhost:8080/"
    },
    "executionInfo": {
     "elapsed": 4716,
     "status": "ok",
     "timestamp": 1619183681109,
     "user": {
      "displayName": "Subanbek Atalov",
      "photoUrl": "",
      "userId": "10272066776599577598"
     },
     "user_tz": -360
    },
    "id": "GIXbs6lO2TVf",
    "outputId": "1387eff9-fdd0-4263-d925-051867b6433b"
   },
   "outputs": [
    {
     "name": "stdout",
     "output_type": "stream",
     "text": [
      "n: 1441\n",
      "0:1\n"
     ]
    }
   ],
   "source": [
    "n = int(input('n: '))\n",
    "hours  = n//60\n",
    "minutes = n%60\n",
    "if hours>23:\n",
    "    hours = hours%24\n",
    "print(f\"{hours}:{minutes}\")"
   ]
  },
  {
   "cell_type": "code",
   "execution_count": 10,
   "metadata": {
    "colab": {
     "base_uri": "https://localhost:8080/"
    },
    "executionInfo": {
     "elapsed": 690,
     "status": "ok",
     "timestamp": 1619183908311,
     "user": {
      "displayName": "Subanbek Atalov",
      "photoUrl": "",
      "userId": "10272066776599577598"
     },
     "user_tz": -360
    },
    "id": "Yd_rHVe64W5r",
    "outputId": "fd4f1597-000e-4e8e-ae66-2732733547ed"
   },
   "outputs": [
    {
     "data": {
      "text/plain": [
       "4"
      ]
     },
     "execution_count": 10,
     "metadata": {
      "tags": []
     },
     "output_type": "execute_result"
    }
   ],
   "source": []
  },
  {
   "cell_type": "markdown",
   "metadata": {
    "id": "4rakZ1Ps2TVg"
   },
   "source": [
    "#### 2. Прочитайте число. Выведите -1 если оно отрицательное, 1 если оно положительное. Если число равно 0, то выведите 0. \n",
    "\n",
    "**Примеры**\n",
    "\n",
    "`входные данные`\n",
    "\n",
    "`7`\n",
    "\n",
    "`выходные данные`\n",
    "\n",
    "`1`"
   ]
  },
  {
   "cell_type": "code",
   "execution_count": 14,
   "metadata": {
    "id": "_lXRPNd62TVg"
   },
   "outputs": [
    {
     "name": "stdout",
     "output_type": "stream",
     "text": [
      "number: 7\n",
      "1\n"
     ]
    }
   ],
   "source": [
    "n = int(input('number: '))\n",
    "if n>0:print(1)\n",
    "elif n<0:print(-1)\n",
    "else:print(0)"
   ]
  },
  {
   "cell_type": "markdown",
   "metadata": {
    "id": "ySt3IA_c2TVg"
   },
   "source": [
    "#### 3. Упорядочить три числа\n",
    "\n",
    "Дано три числа. Упорядочите их в порядке неубывания. Программа должна считывать три числа `a, b, c`, затем программа должна менять их значения так, чтобы стали выполнены условия `a <= b <= c`, затем программа выводит тройку `a, b, c`.\n",
    "\n",
    "**Примечание**\n",
    "\n",
    "Дополнительные ограничения: нельзя использовать дополнительные переменные (то есть единственной допустимой операцией присваивания является обмен значений двух переменных типа `(a, b) = (b, a)`.\n",
    "\n",
    "Программа должна содержать ровно один вызов функции печати результата.\n",
    "\n",
    "\n",
    "**Примеры**\n",
    "\n",
    "`входные данные`\n",
    "\n",
    "`1`\n",
    "\n",
    "`2`\n",
    "\n",
    "`1`\n",
    "\n",
    "`выходные данные`\n",
    "\n",
    "`1 1 2`"
   ]
  },
  {
   "cell_type": "code",
   "execution_count": 37,
   "metadata": {
    "colab": {
     "base_uri": "https://localhost:8080/"
    },
    "executionInfo": {
     "elapsed": 4804,
     "status": "ok",
     "timestamp": 1619184461150,
     "user": {
      "displayName": "Subanbek Atalov",
      "photoUrl": "",
      "userId": "10272066776599577598"
     },
     "user_tz": -360
    },
    "id": "-y1xKK262TVh",
    "outputId": "86bd5ba6-b5c1-48f4-d0a4-7d60ab9dcddf"
   },
   "outputs": [
    {
     "name": "stdout",
     "output_type": "stream",
     "text": [
      "a: 1\n",
      "b: 2\n",
      "c: 1\n",
      "1 1 2\n"
     ]
    }
   ],
   "source": [
    "a,b,c = int(input('a: ')),int(input('b: ')),int(input(\"c: \"))\n",
    "\n",
    "print(' '.join(sorted([str(a),str(b),str(c)])))\n",
    "    "
   ]
  },
  {
   "cell_type": "markdown",
   "metadata": {
    "id": "EG8Exid32TVh"
   },
   "source": [
    "#### 4. Сколько совпадает чисел\n",
    "\n",
    "Даны три целых числа. Определите, сколько среди них совпадающих. Программа должна вывести одно из чисел: 3 (если все совпадают), 2 (если два совпадает) или 0 (если все числа различны).\n",
    "\n",
    "**Примеры**\n",
    "\n",
    "`входные данные`\n",
    "\n",
    "`1`\n",
    "\n",
    "`2`\n",
    "\n",
    "`1`\n",
    "\n",
    "`выходные данные`\n",
    "\n",
    "`2`"
   ]
  },
  {
   "cell_type": "code",
   "execution_count": 43,
   "metadata": {
    "id": "yRPO2Gkg2TVh"
   },
   "outputs": [
    {
     "name": "stdout",
     "output_type": "stream",
     "text": [
      "a: 6\n",
      "b: 6\n",
      "c: 5\n",
      "2\n"
     ]
    }
   ],
   "source": [
    "a,b,c = int(input('a: ')),int(input('b: ')),int(input('c: '))\n",
    "if a ==c==b:\n",
    "    print(3)\n",
    "elif a==c or a==b or b ==c:\n",
    "    print(2)\n",
    "else:\n",
    "    print(0)"
   ]
  },
  {
   "cell_type": "markdown",
   "metadata": {
    "id": "FYaOT8Br2TVh"
   },
   "source": [
    "#### 5. Следующее четное\n",
    "\n",
    "Дано целое число n. Выведите следующее за ним четное число.\n",
    "\n",
    "**Примеры**\n",
    "\n",
    "`входные данные`\n",
    "\n",
    "`7`\n",
    "\n",
    "`выходные данные`\n",
    "\n",
    "`8`\n",
    "\n",
    "`входные данные`\n",
    "\n",
    "`8`\n",
    "\n",
    "`выходные данные`\n",
    "\n",
    "`10`"
   ]
  },
  {
   "cell_type": "code",
   "execution_count": 47,
   "metadata": {
    "id": "COIDtChS2TVh"
   },
   "outputs": [
    {
     "name": "stdout",
     "output_type": "stream",
     "text": [
      "n: 3\n",
      "4\n"
     ]
    }
   ],
   "source": [
    "n = int(input('n: '))\n",
    "if n%2==0:\n",
    "    print(n+2)\n",
    "else:\n",
    "    print(n+1)"
   ]
  },
  {
   "cell_type": "markdown",
   "metadata": {
    "id": "TZb-snmm2TVi"
   },
   "source": [
    "#### 6. Классическая задача \"Fizz Buzz\".\n",
    "\n",
    "Прочитайте число.\n",
    "Если число делится на 3 выведите \"Fizz\", если на 5 – \"Buzz\". Если число делится на 3 и на 5 одновременно, то – \"Fizz Buzz\". В противном случае выведите само число. \n",
    "\n",
    "Все слова выводятся без кавычек.\n",
    "\n",
    "**Примеры**\n",
    "\n",
    "`входные данные`\n",
    "\n",
    "`3`\n",
    "\n",
    "`выходные данные`\n",
    "\n",
    "`Fizz`\n",
    "\n",
    "`входные данные`\n",
    "\n",
    "`15`\n",
    "\n",
    "`выходные данные`\n",
    "\n",
    "`Fizz Buzz`"
   ]
  },
  {
   "cell_type": "code",
   "execution_count": 52,
   "metadata": {
    "id": "pZyh0hQu2TVi"
   },
   "outputs": [
    {
     "name": "stdout",
     "output_type": "stream",
     "text": [
      "n: 2\n",
      "2\n"
     ]
    }
   ],
   "source": [
    "n = int(input('n: '))\n",
    "if n%3 == 0 and n%5==0:\n",
    "    print('Fizz Buzz')\n",
    "elif n%3 == 0:\n",
    "    print('Fizz')\n",
    "elif n%5==0:\n",
    "    print('Buzz')\n",
    "else:\n",
    "    print(n)"
   ]
  },
  {
   "cell_type": "code",
   "execution_count": null,
   "metadata": {},
   "outputs": [],
   "source": []
  }
 ],
 "metadata": {
  "colab": {
   "name": "03_if_else_HW.ipynb",
   "provenance": []
  },
  "kernelspec": {
   "display_name": "Python 3 (ipykernel)",
   "language": "python",
   "name": "python3"
  },
  "language_info": {
   "codemirror_mode": {
    "name": "ipython",
    "version": 3
   },
   "file_extension": ".py",
   "mimetype": "text/x-python",
   "name": "python",
   "nbconvert_exporter": "python",
   "pygments_lexer": "ipython3",
   "version": "3.8.10"
  }
 },
 "nbformat": 4,
 "nbformat_minor": 4
}
