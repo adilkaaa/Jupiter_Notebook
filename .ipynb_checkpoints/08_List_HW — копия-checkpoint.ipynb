{
 "cells": [
  {
   "cell_type": "markdown",
   "metadata": {
    "id": "5s4I1m0loIiW"
   },
   "source": [
    "### 1. Дается список с числами. Собрать в новом списке все числа которые меньше 10."
   ]
  },
  {
   "cell_type": "code",
   "execution_count": 1,
   "metadata": {
    "id": "AOc-30KRoIic"
   },
   "outputs": [
    {
     "name": "stdout",
     "output_type": "stream",
     "text": [
      "[-1, 0, 1, 2, 3, 4, 5, 6, 7, 8, 9]\n"
     ]
    }
   ],
   "source": [
    "L = [-1, 0, 1, 2, 3, 4, 5, 6, 7, 8, 9, 10, 11, 12, 13, 14, 15, 16, 17, 18, 19]\n",
    "\n",
    "l = [i for i in L if i<10]\n",
    "print(l)"
   ]
  },
  {
   "cell_type": "markdown",
   "metadata": {
    "id": "L-hQC6-MoIid"
   },
   "source": [
    "### 2. Дается список с числами. Собрать в новом списке все числа которые делятся на 3 и на 5."
   ]
  },
  {
   "cell_type": "code",
   "execution_count": 2,
   "metadata": {
    "id": "GVx9txiOoIie"
   },
   "outputs": [
    {
     "name": "stdout",
     "output_type": "stream",
     "text": [
      "[0, 15]\n"
     ]
    }
   ],
   "source": [
    "L = [-1, 0, 1, 2, 3, 4, 5, 6, 7, 8, 9, 10, 11, 12, 13, 14, 15, 16, 17, 18, 19]\n",
    "\n",
    "l = [i for i in L if i%3==0 and i%5==0]\n",
    "print(l)"
   ]
  },
  {
   "cell_type": "markdown",
   "metadata": {
    "id": "GTeAnRVYoIie"
   },
   "source": [
    "### 3. Дается список с числами. Собрать в новом списке квадраты (во второй степени) всех чисел которые меньше 10"
   ]
  },
  {
   "cell_type": "code",
   "execution_count": 3,
   "metadata": {
    "id": "_z28AcjVoIie"
   },
   "outputs": [
    {
     "name": "stdout",
     "output_type": "stream",
     "text": [
      "[1, 0, 1, 4, 9, 16, 25, 36, 49, 64, 81]\n"
     ]
    }
   ],
   "source": [
    "L = [-1, 0, 1, 2, 3, 4, 5, 6, 7, 8, 9, 10, 11, 12, 13, 14, 15, 16, 17, 18, 19]\n",
    "\n",
    "l = [i**2 for i in L if i<10]\n",
    "print(l)"
   ]
  },
  {
   "cell_type": "markdown",
   "metadata": {
    "id": "jfudacdtoIif"
   },
   "source": [
    "### 4. Дается список с числами. Найдите количество положительных элементов в данном списке."
   ]
  },
  {
   "cell_type": "code",
   "execution_count": 4,
   "metadata": {
    "id": "GneMtyn2oIif"
   },
   "outputs": [
    {
     "name": "stdout",
     "output_type": "stream",
     "text": [
      "12\n"
     ]
    }
   ],
   "source": [
    "L = [-1, 0, -1, -2, -3, 4, 5, 6, -7, 8, 9, -10, 11, 12, -13, 14, 15, -16, 17, 18, 19]\n",
    "\n",
    "l = [i for i in L if i>0]\n",
    "print(len(l))"
   ]
  },
  {
   "cell_type": "markdown",
   "metadata": {
    "id": "quk3BTonoIif"
   },
   "source": [
    "### 5. Дается список с числами. Выведите значение наименьшего из всех положительных элементов в данном списке."
   ]
  },
  {
   "cell_type": "code",
   "execution_count": 5,
   "metadata": {
    "id": "3o9Vmol5oIif"
   },
   "outputs": [
    {
     "name": "stdout",
     "output_type": "stream",
     "text": [
      "4\n"
     ]
    }
   ],
   "source": [
    "L = [-1, 5, -1, -2, -3, 4, 5, 6, -7, 8, 9, -10, 11, 12, -13, 14, 15, -16, 17, 18, 19]\n",
    "\n",
    "l = sorted([i for i in L if i>0])\n",
    "print(l[0])"
   ]
  },
  {
   "cell_type": "markdown",
   "metadata": {
    "id": "tNd-k1eyoIif"
   },
   "source": [
    "### 6. Дается список с числами. Выведите значение наименьшего нечетного элемента в данном списке."
   ]
  },
  {
   "cell_type": "code",
   "execution_count": 6,
   "metadata": {
    "id": "qP919CoWoIig"
   },
   "outputs": [
    {
     "name": "stdout",
     "output_type": "stream",
     "text": [
      "-13\n"
     ]
    }
   ],
   "source": [
    "L = [-1, 5, -1, -2, -3, 4, 5, 6, -7, 8, 9, -10, 11, 12, -13, 14, 15, -16, 17, 18, 19]\n",
    "\n",
    "l = sorted([i for i in L if i%2!=0])\n",
    "print(l[0])"
   ]
  },
  {
   "cell_type": "markdown",
   "metadata": {
    "id": "8YHQVthLoIig"
   },
   "source": [
    "### 7. Дается список с числами. Выведите элементы данного списка в обратном порядке."
   ]
  },
  {
   "cell_type": "code",
   "execution_count": 9,
   "metadata": {
    "id": "WYiZjngWoIig"
   },
   "outputs": [
    {
     "name": "stdout",
     "output_type": "stream",
     "text": [
      "[19, 18, 17, -16, 15, 14, -13, 12, 11, -10, 9, 8, -7, 6, 5, 4, -3, -2, -1, 5, -1]\n"
     ]
    }
   ],
   "source": [
    "L = [-1, 5, -1, -2, -3, 4, 5, 6, -7, 8, 9, -10, 11, 12, -13, 14, 15, -16, 17, 18, 19]\n",
    "\n",
    "l = L[::-1]\n",
    "print(l)"
   ]
  },
  {
   "cell_type": "markdown",
   "metadata": {
    "id": "POdXib2-oIig"
   },
   "source": [
    "### 8. Дан список. Определите, какое число в этом списке встречается чаще всего. Если таких чисел несколько, выведите любое из них.\n",
    "\n"
   ]
  },
  {
   "cell_type": "code",
   "execution_count": 15,
   "metadata": {
    "colab": {
     "base_uri": "https://localhost:8080/"
    },
    "executionInfo": {
     "elapsed": 669,
     "status": "ok",
     "timestamp": 1620220588191,
     "user": {
      "displayName": "Subanbek Atalov",
      "photoUrl": "",
      "userId": "10272066776599577598"
     },
     "user_tz": -360
    },
    "id": "pNkocuCBoIig",
    "outputId": "528a538a-2d9b-415e-cc78-b92df886e73c"
   },
   "outputs": [
    {
     "name": "stdout",
     "output_type": "stream",
     "text": [
      "1\n"
     ]
    }
   ],
   "source": [
    "L = [1, 5, 1, 2, 3, 4, 5, 6, 2, 8, 3, 1, 1, 12, 13, 14, 15, 16, 17, 12, 1, 2, 2, 2]\n",
    "\n",
    "l = [L.count(i) for i in L]\n",
    "i = l.index(max(l))\n",
    "print(L[i])"
   ]
  },
  {
   "cell_type": "code",
   "execution_count": 9,
   "metadata": {
    "colab": {
     "base_uri": "https://localhost:8080/"
    },
    "executionInfo": {
     "elapsed": 749,
     "status": "ok",
     "timestamp": 1620220497349,
     "user": {
      "displayName": "Subanbek Atalov",
      "photoUrl": "",
      "userId": "10272066776599577598"
     },
     "user_tz": -360
    },
    "id": "2Nloo918qACm",
    "outputId": "3058f9d2-143a-4f4f-e935-58d1fe25f774"
   },
   "outputs": [
    {
     "name": "stdout",
     "output_type": "stream",
     "text": [
      "2 6\n"
     ]
    }
   ],
   "source": []
  }
 ],
 "metadata": {
  "colab": {
   "name": "08_List_HW.ipynb",
   "provenance": []
  },
  "kernelspec": {
   "display_name": "Python 3 (ipykernel)",
   "language": "python",
   "name": "python3"
  },
  "language_info": {
   "codemirror_mode": {
    "name": "ipython",
    "version": 3
   },
   "file_extension": ".py",
   "mimetype": "text/x-python",
   "name": "python",
   "nbconvert_exporter": "python",
   "pygments_lexer": "ipython3",
   "version": "3.8.10"
  }
 },
 "nbformat": 4,
 "nbformat_minor": 1
}
